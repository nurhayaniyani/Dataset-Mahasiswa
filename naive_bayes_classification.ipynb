{
 "cells": [
  {
   "cell_type": "code",
   "execution_count": null,
   "id": "45dc99ef",
   "metadata": {},
   "outputs": [],
   "source": [
    "import pandas as pd\n",
    "from sklearn.model_selection import train_test_split\n",
    "from sklearn.naive_bayes import GaussianNB\n",
    "from sklearn.metrics import classification_report, confusion_matrix, accuracy_score\n"
   ]
  },
  {
   "cell_type": "code",
   "execution_count": null,
   "id": "bc260d57",
   "metadata": {},
   "outputs": [],
   "source": [
    "# Contoh: membaca dari file CSV\n",
    "# Ganti dengan path atau cara load data Anda\n",
    "# df = pd.read_csv('data_mahasiswa.csv')\n",
    "\n",
    "# Untuk contoh, kita buat dummy dataset\n",
    "data = {\n",
    "    'ipk': [3.0, 2.7, 3.2, 2.3, 3.6, 2.5, 3.8, 2.8],\n",
    "    'kehadiran': [90, 75, 88, 60, 95, 65, 98, 70],\n",
    "    'status_kelulusan': ['lulus', 'tidak', 'lulus', 'tidak', 'lulus', 'tidak', 'lulus', 'tidak']\n",
    "}\n",
    "df = pd.DataFrame(data)\n",
    "df.head()\n"
   ]
  },
  {
   "cell_type": "code",
   "execution_count": null,
   "id": "c0ee056d",
   "metadata": {},
   "outputs": [],
   "source": [
    "# Memisahkan fitur dan label\n",
    "X = df.drop('status_kelulusan', axis=1)\n",
    "y = df['status_kelulusan']\n",
    "\n",
    "# Split data menjadi data latih dan data uji\n",
    "X_train, X_test, y_train, y_test = train_test_split(X, y, test_size=0.25, random_state=42)\n"
   ]
  },
  {
   "cell_type": "code",
   "execution_count": null,
   "id": "d518008a",
   "metadata": {},
   "outputs": [],
   "source": [
    "# Membuat model Naive Bayes dan melatihnya\n",
    "model = GaussianNB()\n",
    "model.fit(X_train, y_train)\n"
   ]
  },
  {
   "cell_type": "code",
   "execution_count": null,
   "id": "5fc48cab",
   "metadata": {},
   "outputs": [],
   "source": [
    "# Melakukan prediksi\n",
    "y_pred = model.predict(X_test)\n",
    "\n",
    "# Menampilkan hasil evaluasi\n",
    "print(\"Confusion Matrix:\")\n",
    "print(confusion_matrix(y_test, y_pred))\n",
    "\n",
    "print(\"\\nClassification Report:\")\n",
    "print(classification_report(y_test, y_pred))\n",
    "\n",
    "print(\"\\nAccuracy Score:\")\n",
    "print(accuracy_score(y_test, y_pred))\n"
   ]
  }
 ],
 "metadata": {},
 "nbformat": 4,
 "nbformat_minor": 5
}
